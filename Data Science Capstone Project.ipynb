{
    "cells": [
        {
            "cell_type": "markdown",
            "metadata": {
                "collapsed": true
            },
            "source": "This notebook will be used for the Capstone Project"
        },
        {
            "cell_type": "code",
            "execution_count": 1,
            "metadata": {},
            "outputs": [],
            "source": "import pandas as pd\nimport numpy as np"
        },
        {
            "cell_type": "code",
            "execution_count": 2,
            "metadata": {},
            "outputs": [
                {
                    "name": "stdout",
                    "output_type": "stream",
                    "text": "Hello Capstone Project Course!\n"
                }
            ],
            "source": "print('Hello Capstone Project Course!')"
        },
        {
            "cell_type": "markdown",
            "metadata": {},
            "source": "Introduction and Business Problem\nThe problem to be addressed in this course is centered around both the causes and the severity of car accidents. These are important concerns because in 2019, it was recorded that almost 227,754,100 licensed drivers were using the various roadways in the United States. That number is more than just a statistic, it is human lives that are at risk of being lost every day. For this reason, I think that the causes and severity of car accidents should be analyzed in the effort to benefit the general population, civil and road engineers, the Bureau of Motor Vehicles, and Emergency Medical Services. This applied study could help the general population by making them aware of which driving conditions have the highest risk factors for their safety. With this information, commuters and travelers could drive more carefully or take a different route. Additionally, this study can offer insight to professionals and consultants who design the roadways and bridges in the United States to ensure safer design strategies upon implementation. In a similar fashion, the Bureau of Motor Vehicles could use this information to enforce design regulations on automobile manufacturing companies to verify that new models have a higher degree of safety. Finally, Emergency Medical Services could benefit from this study because they could allocate more resources and personnel during high risk time periods. For example, during times of day that have a higher frequency of reported accidents or during periods of inclement weather. \n\nData\n\nThe data that will be used to find the causes and severity of car accidents will be the Data-Collisons.csv file that was provided in this course. More specifically, this data pertains to the city of Seattle, Washington. After further inspection of the data set, it is apparent that it contains a severity code, on the scale of 0-3, where 0 is unknown and 3 is a fatality. A location is provided, given in x,y coordinates. Along with these two items is a description of the severity of the collision as well as the collision type. The number of people involved in the accident is identified and is further categorized as a person, pedestrian or cycling pedestrian. Various conditions such as weather and time of day are given. For example, based on the first row of data, it is evident that the severity code was 2 and that an injury occurred. Furthermore, it is clear that two people were involved both of which were drivers of motor vehicles. While it is apparent that inattention or the influence of alcohol were not contributing factors to this accident, wet road conditions were listed in the case description. Based on just this particular accident, it would be beneficial to explore the effects of weather and the number of people on accident probability. \n"
        }
    ],
    "metadata": {
        "kernelspec": {
            "display_name": "Python 3.6",
            "language": "python",
            "name": "python3"
        },
        "language_info": {
            "codemirror_mode": {
                "name": "ipython",
                "version": 3
            },
            "file_extension": ".py",
            "mimetype": "text/x-python",
            "name": "python",
            "nbconvert_exporter": "python",
            "pygments_lexer": "ipython3",
            "version": "3.6.9"
        }
    },
    "nbformat": 4,
    "nbformat_minor": 1
}